{
 "cells": [
  {
   "cell_type": "markdown",
   "id": "f53d2998-e977-4f3d-a25c-333441eb8f0e",
   "metadata": {},
   "source": [
    "# MCTS"
   ]
  },
  {
   "cell_type": "markdown",
   "id": "15f8fbc3-cc88-4492-be5b-0e2ebca87cb5",
   "metadata": {},
   "source": [
    "## 1. Setup"
   ]
  },
  {
   "cell_type": "markdown",
   "id": "cb2f5faf-7a2c-4395-88e7-f071bf958779",
   "metadata": {},
   "source": [
    "### 1.1. Data"
   ]
  },
  {
   "cell_type": "code",
   "execution_count": 4,
   "id": "520aa6ef-b4a2-412b-92eb-7b70f02db1aa",
   "metadata": {},
   "outputs": [],
   "source": [
    "import os\n",
    "if \"pyproject.toml\" not in os.listdir():\n",
    "    os.chdir(\"..\")"
   ]
  },
  {
   "cell_type": "code",
   "execution_count": 5,
   "id": "191cdba8-879f-4fa1-a8a3-d75527a29f16",
   "metadata": {},
   "outputs": [],
   "source": [
    "from mcts import mcts"
   ]
  },
  {
   "cell_type": "code",
   "execution_count": 283,
   "id": "84071be3-2191-4ec2-924f-0422905bd8a3",
   "metadata": {},
   "outputs": [],
   "source": [
    "import random\n",
    "import numpy as np\n",
    "from typing import Optional"
   ]
  },
  {
   "cell_type": "code",
   "execution_count": 83,
   "id": "2c033805-a4bb-45ff-8de2-133b0a94bc18",
   "metadata": {},
   "outputs": [],
   "source": [
    "from dr_claude import kb_reading, datamodels"
   ]
  },
  {
   "cell_type": "code",
   "execution_count": 11,
   "id": "5868dff9-2d80-45c5-9ea6-f1da23ef86ca",
   "metadata": {},
   "outputs": [],
   "source": [
    "reader = kb_reading.NYPHKnowldegeBaseReader(\"data/NYPHKnowldegeBase.html\")"
   ]
  },
  {
   "cell_type": "code",
   "execution_count": 12,
   "id": "4638d3de-b270-42e9-97a5-69714396b416",
   "metadata": {},
   "outputs": [],
   "source": [
    "kb = reader.load_knowledge_base()"
   ]
  },
  {
   "cell_type": "code",
   "execution_count": 16,
   "id": "bd0806aa-2018-4c90-a310-db9c239107c5",
   "metadata": {},
   "outputs": [],
   "source": [
    "prob_matrix = datamodels.DiseaseSymptomKnowledgeBaseTransformer.to_numpy(kb)"
   ]
  },
  {
   "cell_type": "code",
   "execution_count": 27,
   "id": "35e4e100-7ca0-4648-ae1d-d4d538e373f8",
   "metadata": {},
   "outputs": [],
   "source": [
    "import abc\n",
    "from typing import List, NamedTuple"
   ]
  },
  {
   "cell_type": "code",
   "execution_count": 28,
   "id": "4d15639c-ed30-4526-b44f-4345b4fed64b",
   "metadata": {},
   "outputs": [],
   "source": [
    "class State(abc.ABC):\n",
    "    @abc.abstractmethod\n",
    "    def getCurrentPlayer(self):\n",
    "        ...\n",
    "\n",
    "    @abc.abstractmethod\n",
    "    def getPossibleActions(self):\n",
    "        ...\n",
    "\n",
    "    @abc.abstractmethod\n",
    "    def takeAction(self, action):\n",
    "        ...\n",
    "\n",
    "    @abc.abstractmethod\n",
    "    def isTerminal(self) -> bool:\n",
    "        ...\n",
    "\n",
    "    @abc.abstractmethod\n",
    "    def getReward(self) -> float:\n",
    "        ..."
   ]
  },
  {
   "cell_type": "code",
   "execution_count": 90,
   "id": "a535aa0a-8461-4c40-9d50-59b9bc579c2b",
   "metadata": {},
   "outputs": [],
   "source": [
    "from typing import Set"
   ]
  },
  {
   "cell_type": "code",
   "execution_count": 109,
   "id": "ce385f36-4beb-4953-b0a2-e7bf1ee101b3",
   "metadata": {},
   "outputs": [],
   "source": [
    "class SymptomConditionsSpace(NamedTuple):\n",
    "    conditions: Set[datamodels.Condition]\n",
    "    symptoms: Set[datamodels.WeightedSymptom]\n",
    "\n",
    "    @classmethod\n",
    "    def from_kb(cls, kb: datamodels.DiseaseSymptomKnowledgeBase) -> 'SymptomConditionsSpace':\n",
    "        conditions = list(set(kb.condition_symptoms))\n",
    "        symptoms = list({s for c, symps in kb.condition_symptoms.items() for s in symps})\n",
    "        return cls(conditions, symptoms)"
   ]
  },
  {
   "cell_type": "code",
   "execution_count": 110,
   "id": "e7723cda-a6f9-4d1a-ac9b-7dfb56807a93",
   "metadata": {},
   "outputs": [
    {
     "data": {
      "text/plain": [
       "(406, 133)"
      ]
     },
     "execution_count": 110,
     "metadata": {},
     "output_type": "execute_result"
    }
   ],
   "source": [
    "len(SymptomConditionsSpace.from_kb(kb).symptoms), len(SymptomConditionsSpace.from_kb(kb).conditions)"
   ]
  },
  {
   "cell_type": "code",
   "execution_count": 199,
   "id": "972c7b0a-6abf-4a3f-864e-7f2b81925585",
   "metadata": {},
   "outputs": [],
   "source": [
    "class Action:\n",
    "    def __init__(self, name: str, is_condition: bool) -> None:\n",
    "        self.name = name\n",
    "        self.is_condition = is_condition\n",
    "\n",
    "    def __hash__(self) -> int:\n",
    "        return hash(self.name) + int(self.is_condition)\n",
    "\n",
    "    def __repr__(self) -> str:\n",
    "        return f\"{'Condition' if self.is_condition else 'Symptom'} Action: {self.name}\"\n",
    "\n",
    "    def __eq__(self, other):\n",
    "        return self.name == other.name and self.is_condition == other.is_condition"
   ]
  },
  {
   "cell_type": "code",
   "execution_count": 200,
   "id": "60d62fb5-3012-4a06-8f70-59101f114f46",
   "metadata": {},
   "outputs": [],
   "source": [
    "from copy import deepcopy"
   ]
  },
  {
   "cell_type": "code",
   "execution_count": 267,
   "id": "072cdf45-a21e-49ac-a826-58670d197dd6",
   "metadata": {},
   "outputs": [],
   "source": [
    "class Patient(State):\n",
    "    def __init__(self, condition, symptoms: List, action_space: List[Action]) -> None:\n",
    "        self.condition = condition\n",
    "        self.symptoms = symptoms\n",
    "        self.symptom_names = [s.name for s in symptoms]\n",
    "        self.is_done = False\n",
    "        self.action_space = action_space\n",
    "        self.state_space = [a for a in self.action_space if not a.is_condition]\n",
    "\n",
    "    def reset(self) -> None:\n",
    "        self.state = np.zeros(shape=(len(self.state_space) + 1, 1))\n",
    "\n",
    "    def getCurrentPlayer(self):\n",
    "        return 1\n",
    "\n",
    "    def getPossibleActions(self):\n",
    "        return self.action_space\n",
    "\n",
    "    def takeAction(self, action: Action):\n",
    "        if action.is_condition:\n",
    "            self.is_done = True\n",
    "        try:\n",
    "            i: int = self.state_space.index(action)\n",
    "        except ValueError:\n",
    "            return self\n",
    "        else:\n",
    "            state = deepcopy(self.state)\n",
    "            state[i] = 1 if action.name in self.symptom_names else -1\n",
    "        new = deepcopy(self)\n",
    "        new.state = state\n",
    "        return new\n",
    "        \n",
    "    def isTerminal(self):\n",
    "        return self.is_done\n",
    "\n",
    "    def getReward(self) -> float:\n",
    "        return 1.0\n",
    "\n",
    "    def __repr__(self) -> str:\n",
    "        return f\"Patient([{self.condition.name} || {[s.name for s in self.symptoms]}])\""
   ]
  },
  {
   "cell_type": "code",
   "execution_count": 298,
   "id": "269a0d80-244f-4bad-b509-45e1b80b0a36",
   "metadata": {},
   "outputs": [],
   "source": [
    "class PatientState(State):\n",
    "    def __init__(self, action_space: List[Action], state: Optional[np.array] = None) -> None:\n",
    "        self.action_space = action_space\n",
    "        if not state:\n",
    "            self.state = np.zeros(shape=(len(self.state_space), 1))\n",
    "        else: self.state = state\n",
    "\n",
    "    def getCurrentPlayer(self):\n",
    "        return 1\n",
    "\n",
    "    def getPossibleActions(self):\n",
    "        return self.action_space\n",
    "\n",
    "    def takeAction(self, action: Action):\n",
    "        # action could be a disease prediction or a symptom question\n",
    "        \n",
    "    def isTerminal(self):\n",
    "        return self.is_done\n",
    "\n",
    "    def getReward(self) -> float:\n",
    "        # reward based on condition probabilities\n",
    "        return 1.0\n",
    "\n",
    "    def __repr__(self) -> str:\n",
    "        return f\"Patient([{self.condition.name} || {[s.name for s in self.symptoms]}])\""
   ]
  },
  {
   "cell_type": "code",
   "execution_count": 285,
   "id": "56d5ecd5-4624-4bf3-8b86-f5a3e7e37315",
   "metadata": {},
   "outputs": [],
   "source": [
    "symptom_condition_space = SymptomConditionsSpace.from_kb(kb)"
   ]
  },
  {
   "cell_type": "code",
   "execution_count": 286,
   "id": "5c8c00c2-a48e-4ea1-bc8a-5b740f900e4d",
   "metadata": {},
   "outputs": [],
   "source": [
    "action_space = [Action(s.name, False) for s in symptom_condition_space.symptoms] + [Action(s.name, True) for s in symptom_condition_space.conditions]"
   ]
  },
  {
   "cell_type": "code",
   "execution_count": 287,
   "id": "3850694e-1868-4c06-bd7d-62c275d31800",
   "metadata": {},
   "outputs": [],
   "source": [
    "def sample_patient(kb: datamodels.DiseaseSymptomKnowledgeBase) -> Patient:\n",
    "    condition = random.choice(list(kb.condition_symptoms))\n",
    "    possible_symptoms = kb.condition_symptoms[condition]\n",
    "    selected_symptoms = []\n",
    "    for s in possible_symptoms:\n",
    "        if random.uniform(0,1) < s.weight:\n",
    "            selected_symptoms.append(s)\n",
    "    return Patient(condition, selected_symptoms, action_space)"
   ]
  },
  {
   "cell_type": "code",
   "execution_count": 288,
   "id": "5dd30086-c21f-4847-a7fe-090a9d6b3559",
   "metadata": {},
   "outputs": [],
   "source": [
    "patient = sample_patient(kb)"
   ]
  },
  {
   "cell_type": "code",
   "execution_count": 289,
   "id": "1eb86049-11c3-4ad3-85b9-29a43d562be5",
   "metadata": {},
   "outputs": [
    {
     "data": {
      "text/plain": [
       "Condition(name='encephalopathy', umls_code='C0085584')"
      ]
     },
     "execution_count": 289,
     "metadata": {},
     "output_type": "execute_result"
    }
   ],
   "source": [
    "patient.condition"
   ]
  },
  {
   "cell_type": "code",
   "execution_count": 290,
   "id": "491a1fbb-bf3f-49e1-9a73-fb1dca1ccbec",
   "metadata": {},
   "outputs": [],
   "source": [
    "patient.reset()"
   ]
  },
  {
   "cell_type": "code",
   "execution_count": 291,
   "id": "d67ec42f-2935-48e8-9665-ab0a44406c6c",
   "metadata": {},
   "outputs": [],
   "source": [
    "searcher = mcts(timeLimit=1000)"
   ]
  },
  {
   "cell_type": "code",
   "execution_count": 296,
   "id": "94e52320-5fee-449e-989e-b52e3be8f63c",
   "metadata": {},
   "outputs": [],
   "source": [
    "action = searcher.search(initialState=patient)"
   ]
  },
  {
   "cell_type": "code",
   "execution_count": 297,
   "id": "82ba2925-95f4-4877-bc1a-7256d2b7fd9f",
   "metadata": {},
   "outputs": [
    {
     "data": {
      "text/plain": [
       "Symptom Action: abdomen acute"
      ]
     },
     "execution_count": 297,
     "metadata": {},
     "output_type": "execute_result"
    }
   ],
   "source": [
    "action"
   ]
  },
  {
   "cell_type": "code",
   "execution_count": null,
   "id": "29209d6e-c588-4285-b925-b213e88bd0b8",
   "metadata": {},
   "outputs": [],
   "source": []
  }
 ],
 "metadata": {
  "kernelspec": {
   "display_name": "Python 3 (ipykernel)",
   "language": "python",
   "name": "python3"
  },
  "language_info": {
   "codemirror_mode": {
    "name": "ipython",
    "version": 3
   },
   "file_extension": ".py",
   "mimetype": "text/x-python",
   "name": "python",
   "nbconvert_exporter": "python",
   "pygments_lexer": "ipython3",
   "version": "3.10.3"
  }
 },
 "nbformat": 4,
 "nbformat_minor": 5
}
